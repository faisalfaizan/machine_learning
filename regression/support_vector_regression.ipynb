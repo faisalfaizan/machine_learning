{
  "nbformat": 4,
  "nbformat_minor": 0,
  "metadata": {
    "colab": {
      "name": "support_vector_regression.ipynb",
      "provenance": [],
      "authorship_tag": "ABX9TyNE9T1wIw7G3tsJOXb68bBW",
      "include_colab_link": true
    },
    "kernelspec": {
      "name": "python3",
      "display_name": "Python 3"
    },
    "language_info": {
      "name": "python"
    }
  },
  "cells": [
    {
      "cell_type": "markdown",
      "metadata": {
        "id": "view-in-github",
        "colab_type": "text"
      },
      "source": [
        "<a href=\"https://colab.research.google.com/github/faisalfaizan/machine_learning/blob/main/regression/support_vector_regression.ipynb\" target=\"_parent\"><img src=\"https://colab.research.google.com/assets/colab-badge.svg\" alt=\"Open In Colab\"/></a>"
      ]
    },
    {
      "cell_type": "markdown",
      "metadata": {
        "id": "92ovp562Lmzn"
      },
      "source": [
        "import libraries"
      ]
    },
    {
      "cell_type": "code",
      "metadata": {
        "id": "1_YMEeTGLthi"
      },
      "source": [
        "import numpy as np\n",
        "import matplotlib.pyplot as plt\n",
        "import pandas as pd"
      ],
      "execution_count": 2,
      "outputs": []
    },
    {
      "cell_type": "markdown",
      "metadata": {
        "id": "-9XYIDVrL1Az"
      },
      "source": [
        "Import data file"
      ]
    },
    {
      "cell_type": "code",
      "metadata": {
        "id": "cgz1mDMaL29H"
      },
      "source": [
        "df = pd.read_csv('Position_Salaries.csv')\n",
        "X = df.iloc[:, 1:-1].values\n",
        "y = df.iloc[:, -1].values"
      ],
      "execution_count": 3,
      "outputs": []
    },
    {
      "cell_type": "markdown",
      "metadata": {
        "id": "ngEKPgE1MKjL"
      },
      "source": [
        "Scale data"
      ]
    },
    {
      "cell_type": "code",
      "metadata": {
        "id": "Opctp5foMOh6"
      },
      "source": [
        "y = y.reshape(len(y), 1)\n",
        "from sklearn.preprocessing import StandardScaler\n",
        "sc_X = StandardScaler()\n",
        "sc_y = StandardScaler()\n",
        "X = sc_X.fit_transform(X)\n",
        "y = sc_y.fit_transform(y)"
      ],
      "execution_count": 7,
      "outputs": []
    },
    {
      "cell_type": "markdown",
      "metadata": {
        "id": "-PAgSKQ2MyA1"
      },
      "source": [
        "Create support vector regression model"
      ]
    },
    {
      "cell_type": "code",
      "metadata": {
        "colab": {
          "base_uri": "https://localhost:8080/"
        },
        "id": "k0dmIPzBM20e",
        "outputId": "bd8e5259-e72b-4c74-bb85-33100e128333"
      },
      "source": [
        "from sklearn.svm import SVR\n",
        "reg = SVR(kernel='rbf')\n",
        "reg = reg.fit(X,y)"
      ],
      "execution_count": 9,
      "outputs": [
        {
          "output_type": "stream",
          "text": [
            "/usr/local/lib/python3.7/dist-packages/sklearn/utils/validation.py:760: DataConversionWarning: A column-vector y was passed when a 1d array was expected. Please change the shape of y to (n_samples, ), for example using ravel().\n",
            "  y = column_or_1d(y, warn=True)\n"
          ],
          "name": "stderr"
        }
      ]
    },
    {
      "cell_type": "markdown",
      "metadata": {
        "id": "udrBdtapNYWR"
      },
      "source": [
        "Predict salary on a random input"
      ]
    },
    {
      "cell_type": "code",
      "metadata": {
        "colab": {
          "base_uri": "https://localhost:8080/"
        },
        "id": "-Xp5H-ctNeL9",
        "outputId": "920af1d9-fbad-4e90-a60b-696bb29e56d3"
      },
      "source": [
        "y_pred = sc_y.inverse_transform(reg.predict(sc_X.transform([[7.5]])))\n",
        "print(y_pred)"
      ],
      "execution_count": 13,
      "outputs": [
        {
          "output_type": "stream",
          "text": [
            "[263740.85328003]\n"
          ],
          "name": "stdout"
        }
      ]
    },
    {
      "cell_type": "markdown",
      "metadata": {
        "id": "Zk72RUkFOKHD"
      },
      "source": [
        "Draw a chart on SVR"
      ]
    },
    {
      "cell_type": "code",
      "metadata": {
        "colab": {
          "base_uri": "https://localhost:8080/",
          "height": 312
        },
        "id": "-uoyrA9_OOqO",
        "outputId": "66762e1d-4129-4ebb-af28-1d0dd3a4df74"
      },
      "source": [
        "norm_X = sc_X.inverse_transform(X)\n",
        "norm_y = sc_y.inverse_transform(y)\n",
        "plt.scatter(norm_X, norm_y, color='red')\n",
        "plt.plot(norm_X, sc_y.inverse_transform(reg.predict(X)))\n",
        "plt.title('Employee Level vs Salary (Support Vector Regression)')\n",
        "plt.xlabel('Position Level')\n",
        "plt.ylabel('Salary')\n"
      ],
      "execution_count": 33,
      "outputs": [
        {
          "output_type": "execute_result",
          "data": {
            "text/plain": [
              "Text(0, 0.5, 'Salary')"
            ]
          },
          "metadata": {
            "tags": []
          },
          "execution_count": 33
        },
        {
          "output_type": "display_data",
          "data": {
            "image/png": "[encoded data removed]",
            "text/plain": [
              "<Figure size 432x288 with 1 Axes>"
            ]
          },
          "metadata": {
            "tags": [],
            "needs_background": "light"
          }
        }
      ]
    },
    {
      "cell_type": "markdown",
      "metadata": {
        "id": "GZCxtHGhPceO"
      },
      "source": [
        "Draw high resolution chart"
      ]
    },
    {
      "cell_type": "code",
      "metadata": {
        "colab": {
          "base_uri": "https://localhost:8080/",
          "height": 312
        },
        "id": "v3eO52E0Pebj",
        "outputId": "ef8278f5-370b-4aad-96e0-59d39c6ed9e2"
      },
      "source": [
        "X_grid= np.arange(min(norm_X), max(norm_X), 0.1)\n",
        "X_grid = X_grid.reshape(len(X_grid), 1)\n",
        "#print(X_grid)\n",
        "plt.scatter(norm_X, norm_y, color='red')\n",
        "plt.plot(X_grid, sc_y.inverse_transform(reg.predict(sc_X.transform(X_grid))))\n",
        "plt.title('       Employee Level vs Salary (Support Vector Regression)')\n",
        "plt.xlabel('Position Level')\n",
        "plt.ylabel('Salary')"
      ],
      "execution_count": 34,
      "outputs": [
        {
          "output_type": "execute_result",
          "data": {
            "text/plain": [
              "Text(0, 0.5, 'Salary')"
            ]
          },
          "metadata": {
            "tags": []
          },
          "execution_count": 34
        },
        {
          "output_type": "display_data",
          "data": {
            "image/png": "[encoded data removed]",
            "text/plain": [
              "<Figure size 432x288 with 1 Axes>"
            ]
          },
          "metadata": {
            "tags": [],
            "needs_background": "light"
          }
        }
      ]
    }
  ]
}