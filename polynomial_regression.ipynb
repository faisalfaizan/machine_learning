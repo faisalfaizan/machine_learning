{
  "nbformat": 4,
  "nbformat_minor": 0,
  "metadata": {
    "colab": {
      "name": "polynomial regression.ipynb",
      "provenance": [],
      "authorship_tag": "ABX9TyNnNPU8n4gvkWXPPenhS4Ed",
      "include_colab_link": true
    },
    "kernelspec": {
      "name": "python3",
      "display_name": "Python 3"
    },
    "language_info": {
      "name": "python"
    }
  },
  "cells": [
    {
      "cell_type": "markdown",
      "metadata": {
        "id": "view-in-github",
        "colab_type": "text"
      },
      "source": [
        "<a href=\"https://colab.research.google.com/github/faisalfaizan/machine_learning/blob/main/polynomial_regression.ipynb\" target=\"_parent\"><img src=\"https://colab.research.google.com/assets/colab-badge.svg\" alt=\"Open In Colab\"/></a>"
      ]
    },
    {
      "cell_type": "markdown",
      "metadata": {
        "id": "MlnIK9tj7fs-"
      },
      "source": [
        "Importing Libraries"
      ]
    },
    {
      "cell_type": "code",
      "metadata": {
        "id": "cAj3px5d7jAu"
      },
      "source": [
        "import numpy as np\n",
        "import matplotlib.pyplot as plt\n",
        "import pandas as pd\n"
      ],
      "execution_count": 1,
      "outputs": []
    },
    {
      "cell_type": "markdown",
      "metadata": {
        "id": "RB98zciS7sDv"
      },
      "source": [
        "Read the data"
      ]
    },
    {
      "cell_type": "code",
      "metadata": {
        "id": "4kydz47_71UF"
      },
      "source": [
        "df = pd.read_csv('Position_Salaries.csv')\n",
        "X = df.iloc[:, 1:-1]\n",
        "y = df.iloc[:, -1]"
      ],
      "execution_count": 2,
      "outputs": []
    },
    {
      "cell_type": "markdown",
      "metadata": {
        "id": "0djCb6qV8ThG"
      },
      "source": [
        "Creating Linear regression model"
      ]
    },
    {
      "cell_type": "code",
      "metadata": {
        "colab": {
          "base_uri": "https://localhost:8080/"
        },
        "id": "cpycvO4f8XV6",
        "outputId": "8b2604a1-8699-4e33-b33a-004bc25c7f27"
      },
      "source": [
        "from sklearn.linear_model import LinearRegression\n",
        "lin_reg = LinearRegression()\n",
        "lin_reg.fit(X, y)"
      ],
      "execution_count": 5,
      "outputs": [
        {
          "output_type": "execute_result",
          "data": {
            "text/plain": [
              "LinearRegression(copy_X=True, fit_intercept=True, n_jobs=None, normalize=False)"
            ]
          },
          "metadata": {
            "tags": []
          },
          "execution_count": 5
        }
      ]
    },
    {
      "cell_type": "markdown",
      "metadata": {
        "id": "1wDbD-1t9RfK"
      },
      "source": [
        "Adding Polynomial Trasformer"
      ]
    },
    {
      "cell_type": "code",
      "metadata": {
        "colab": {
          "base_uri": "https://localhost:8080/"
        },
        "id": "O3z1lYnR9SE5",
        "outputId": "74ab24bc-0a81-480a-ce4e-39f944dba9f8"
      },
      "source": [
        "from sklearn.preprocessing import PolynomialFeatures\n",
        "poly = PolynomialFeatures(degree=4)\n",
        "X_poly = poly.fit_transform(X)\n",
        "lin_reg_poly = LinearRegression()\n",
        "lin_reg_poly.fit(X_poly, y)"
      ],
      "execution_count": 22,
      "outputs": [
        {
          "output_type": "execute_result",
          "data": {
            "text/plain": [
              "LinearRegression(copy_X=True, fit_intercept=True, n_jobs=None, normalize=False)"
            ]
          },
          "metadata": {
            "tags": []
          },
          "execution_count": 22
        }
      ]
    },
    {
      "cell_type": "markdown",
      "metadata": {
        "id": "eNqZST3_Kjc7"
      },
      "source": [
        "Draw linear regression plot"
      ]
    },
    {
      "cell_type": "code",
      "metadata": {
        "colab": {
          "base_uri": "https://localhost:8080/",
          "height": 312
        },
        "id": "O6OetrM1KnQv",
        "outputId": "c5c5cb34-a851-465d-f38c-8a8c46fed080"
      },
      "source": [
        "plt.scatter(X, y, color='red')\n",
        "plt.plot(X, lin_reg.predict(X), color='blue')\n",
        "plt.title('Linear Regression Salary with Position Level')\n",
        "plt.xlabel('Position Level')\n",
        "plt.ylabel('Salary')"
      ],
      "execution_count": 13,
      "outputs": [
        {
          "output_type": "execute_result",
          "data": {
            "text/plain": [
              "Text(0, 0.5, 'Salary')"
            ]
          },
          "metadata": {
            "tags": []
          },
          "execution_count": 13
        },
        {
          "output_type": "display_data",
          "data": {
            "image/png": "[encoded data removed]",
            "text/plain": [
              "<Figure size 432x288 with 1 Axes>"
            ]
          },
          "metadata": {
            "tags": [],
            "needs_background": "light"
          }
        }
      ]
    },
    {
      "cell_type": "markdown",
      "metadata": {
        "id": "wkybIPjxLReR"
      },
      "source": [
        "Draw polynomial regression"
      ]
    },
    {
      "cell_type": "code",
      "metadata": {
        "colab": {
          "base_uri": "https://localhost:8080/",
          "height": 312
        },
        "id": "vqJpIL1kLVS5",
        "outputId": "a0fc126e-55da-4048-f1fe-7ec827caa32a"
      },
      "source": [
        "plt.scatter(X, y, color='red')\n",
        "plt.plot(X, lin_reg_poly.predict(poly.fit_transform(X)), color='blue')\n",
        "plt.title('Polynomial Regression Salary with Position Level')\n",
        "plt.xlabel('Position Level')\n",
        "plt.ylabel('Salary')"
      ],
      "execution_count": 20,
      "outputs": [
        {
          "output_type": "execute_result",
          "data": {
            "text/plain": [
              "Text(0, 0.5, 'Salary')"
            ]
          },
          "metadata": {
            "tags": []
          },
          "execution_count": 20
        },
        {
          "output_type": "display_data",
          "data": {
            "image/png": "[encoded data removed]",
            "text/plain": [
              "<Figure size 432x288 with 1 Axes>"
            ]
          },
          "metadata": {
            "tags": [],
            "needs_background": "light"
          }
        }
      ]
    },
    {
      "cell_type": "markdown",
      "metadata": {
        "id": "EFavuNSAL5H2"
      },
      "source": [
        "Finding r2_score for polynomial regression"
      ]
    },
    {
      "cell_type": "code",
      "metadata": {
        "colab": {
          "base_uri": "https://localhost:8080/"
        },
        "id": "Atac-93UL798",
        "outputId": "91730b28-8c15-4cee-b753-3b88aa6db9e2"
      },
      "source": [
        "from sklearn.metrics import r2_score\n",
        "r2_score(y, lin_reg_poly.predict(poly.fit_transform(X)))\n",
        "# degree = 5 score = 0.9997969027099755\n",
        "# degree = 4 score = 0.9973922891706614\n"
      ],
      "execution_count": 37,
      "outputs": [
        {
          "output_type": "execute_result",
          "data": {
            "text/plain": [
              "0.9973922891706614"
            ]
          },
          "metadata": {
            "tags": []
          },
          "execution_count": 37
        }
      ]
    },
    {
      "cell_type": "markdown",
      "metadata": {
        "id": "nV7IsnxRMlM1"
      },
      "source": [
        "Finding r2_score for linear regression"
      ]
    },
    {
      "cell_type": "code",
      "metadata": {
        "colab": {
          "base_uri": "https://localhost:8080/"
        },
        "id": "c76q_kt4MmxO",
        "outputId": "b4c6ecea-b531-4f53-b12e-4c4cd0dfcdb2"
      },
      "source": [
        "r2_score(y, lin_reg.predict(X))"
      ],
      "execution_count": 24,
      "outputs": [
        {
          "output_type": "execute_result",
          "data": {
            "text/plain": [
              "0.6690412331929895"
            ]
          },
          "metadata": {
            "tags": []
          },
          "execution_count": 24
        }
      ]
    },
    {
      "cell_type": "markdown",
      "metadata": {
        "id": "GK-YU3T-MtTU"
      },
      "source": [
        "Predict individual salary based on level with linear regression"
      ]
    },
    {
      "cell_type": "code",
      "metadata": {
        "id": "7M5Nkw-cMxVV"
      },
      "source": [
        "y_pred = lin_reg.predict([[7.5]])\n",
        "print(y_pred)"
      ],
      "execution_count": null,
      "outputs": []
    },
    {
      "cell_type": "markdown",
      "metadata": {
        "id": "jYfbADZUNgqf"
      },
      "source": [
        "Predict individual salary based on level with polynomial regression"
      ]
    },
    {
      "cell_type": "code",
      "metadata": {
        "colab": {
          "base_uri": "https://localhost:8080/"
        },
        "id": "56PHsc2zNiY8",
        "outputId": "539367e9-f992-475a-f1ae-85a684e545ca"
      },
      "source": [
        "y_pred = lin_reg_poly.predict(poly.fit_transform([[9]]))\n",
        "print(y_pred)"
      ],
      "execution_count": 38,
      "outputs": [
        {
          "output_type": "stream",
          "text": [
            "[528694.63869462]\n"
          ],
          "name": "stdout"
        }
      ]
    }
  ]
}